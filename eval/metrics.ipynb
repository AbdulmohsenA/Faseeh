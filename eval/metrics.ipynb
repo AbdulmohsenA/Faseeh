{
 "cells": [
  {
   "cell_type": "code",
   "execution_count": 116,
   "metadata": {},
   "outputs": [
    {
     "name": "stderr",
     "output_type": "stream",
     "text": [
      "[nltk_data] Downloading package wordnet to\n",
      "[nltk_data]     C:\\Users\\user\\AppData\\Roaming\\nltk_data...\n",
      "[nltk_data]   Package wordnet is already up-to-date!\n",
      "[nltk_data] Downloading package punkt_tab to\n",
      "[nltk_data]     C:\\Users\\user\\AppData\\Roaming\\nltk_data...\n",
      "[nltk_data]   Package punkt_tab is already up-to-date!\n",
      "[nltk_data] Downloading package omw-1.4 to\n",
      "[nltk_data]     C:\\Users\\user\\AppData\\Roaming\\nltk_data...\n",
      "[nltk_data]   Package omw-1.4 is already up-to-date!\n"
     ]
    },
    {
     "data": {
      "application/vnd.jupyter.widget-view+json": {
       "model_id": "6ad6f47e2d7a43b6bd39364e9c7e092f",
       "version_major": 2,
       "version_minor": 0
      },
      "text/plain": [
       "Fetching 5 files:   0%|          | 0/5 [00:00<?, ?it/s]"
      ]
     },
     "metadata": {},
     "output_type": "display_data"
    },
    {
     "name": "stderr",
     "output_type": "stream",
     "text": [
      "Lightning automatically upgraded your loaded checkpoint from v1.8.3.post1 to v2.4.0. To apply the upgrade to your files permanently, run `python -m pytorch_lightning.utilities.upgrade_checkpoint C:\\Users\\user\\.cache\\huggingface\\hub\\models--Unbabel--wmt22-comet-da\\snapshots\\371e9839ca4e213dde891b066cf3080f75ec7e72\\checkpoints\\model.ckpt`\n",
      "Encoder model frozen.\n"
     ]
    }
   ],
   "source": [
    "import random\n",
    "import numpy as np\n",
    "from evaluate import load\n",
    "\n",
    "# Load metrics\n",
    "meteor = load(\"meteor\")\n",
    "# ter = load(\"ter\")\n",
    "comet = load(\"comet\")\n",
    "# bertscore = load(\"bertscore\")\n",
    "# bluert = load(\"bleurt\")\n",
    "fluency = load(\"Abdulmohsena/classicier\")\n",
    "# DPO for human alignment"
   ]
  },
  {
   "cell_type": "code",
   "execution_count": 162,
   "metadata": {},
   "outputs": [],
   "source": [
    "def all_metrics(predictions, references, sources):\n",
    "    import warnings\n",
    "    warnings.filterwarnings('ignore')\n",
    "    results = {}\n",
    "    results['meteor'] = meteor.compute(predictions=predictions, references=references)\n",
    "    results['comet'] = comet.compute(predictions=predictions, references=references, sources=sources)\n",
    "    results['is_classical'] = fluency.compute(texts=predictions)\n",
    "    \n",
    "    return results"
   ]
  },
  {
   "cell_type": "code",
   "execution_count": 163,
   "metadata": {},
   "outputs": [],
   "source": [
    "predictions = ['وها هنا نقول أن العضة من الكلب', 'مرحبا', 'قالوا انا كنا معرضين', \"ما طار طير وارتفع الا كما طار وقع\"]\n",
    "references = ['وقلنا أن العض من الكلب', 'أهلا', \"أعرضنا عن هذا\", \"ما طار طير وارتفع، الا كما طار وقع\"]\n",
    "sources = ['and we said the bite is from the dog', 'hi', 'we were ignorant', \"hi\"]"
   ]
  },
  {
   "cell_type": "code",
   "execution_count": 164,
   "metadata": {},
   "outputs": [
    {
     "data": {
      "text/plain": [
       "'علا'"
      ]
     },
     "execution_count": 164,
     "metadata": {},
     "output_type": "execute_result"
    }
   ],
   "source": [
    "from camel_tools.utils import dediac\n",
    "dediac.dediac_ar(\"علا\")"
   ]
  },
  {
   "cell_type": "code",
   "execution_count": 171,
   "metadata": {},
   "outputs": [],
   "source": [
    "predictions = ['المشروع وغير المشروع واضحان']\n",
    "references = [dediac.dediac_ar('الحلال بين والحرام بين')]\n",
    "sources = ['Lawful and unlawful are clear']"
   ]
  },
  {
   "cell_type": "code",
   "execution_count": 172,
   "metadata": {},
   "outputs": [
    {
     "name": "stderr",
     "output_type": "stream",
     "text": [
      "GPU available: True (cuda), used: True\n",
      "TPU available: False, using: 0 TPU cores\n",
      "HPU available: False, using: 0 HPUs\n",
      "LOCAL_RANK: 0 - CUDA_VISIBLE_DEVICES: [0]\n"
     ]
    },
    {
     "data": {
      "text/plain": [
       "{'meteor': {'meteor': 0.0},\n",
       " 'comet': {'mean_score': 0.6387609839439392, 'scores': [0.6387609839439392]},\n",
       " 'is_classical': {'classical_score': array([0.3479424], dtype=float32)}}"
      ]
     },
     "execution_count": 172,
     "metadata": {},
     "output_type": "execute_result"
    }
   ],
   "source": [
    "all_metrics(predictions, references, sources)"
   ]
  },
  {
   "cell_type": "code",
   "execution_count": null,
   "metadata": {},
   "outputs": [],
   "source": []
  }
 ],
 "metadata": {
  "kernelspec": {
   "display_name": "Faseeh",
   "language": "python",
   "name": "python3"
  },
  "language_info": {
   "codemirror_mode": {
    "name": "ipython",
    "version": 3
   },
   "file_extension": ".py",
   "mimetype": "text/x-python",
   "name": "python",
   "nbconvert_exporter": "python",
   "pygments_lexer": "ipython3",
   "version": "3.11.9"
  }
 },
 "nbformat": 4,
 "nbformat_minor": 2
}
